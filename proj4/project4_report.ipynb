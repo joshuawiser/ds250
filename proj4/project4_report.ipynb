{
  "cells": [
    {
      "cell_type": "raw",
      "id": "615b07a7",
      "metadata": {},
      "source": [
        "---\n",
        "title: \"Client Report - Can You Predict That?\"\n",
        "subtitle: \"Course DS 250\"\n",
        "author: \"Joshua Wiser\"\n",
        "format:\n",
        "  html:\n",
        "    self-contained: true\n",
        "    page-layout: full\n",
        "    title-block-banner: true\n",
        "    toc: true\n",
        "    toc-depth: 3\n",
        "    toc-location: body\n",
        "    number-sections: false\n",
        "    html-math-method: katex\n",
        "    code-fold: true\n",
        "    code-summary: \"Show the code\"\n",
        "    code-overflow: wrap\n",
        "    code-copy: hover\n",
        "    code-tools:\n",
        "        source: false\n",
        "        toggle: true\n",
        "        caption: See code\n",
        "    \n",
        "---"
      ]
    },
    {
      "cell_type": "code",
      "execution_count": 1,
      "id": "libraries",
      "metadata": {},
      "outputs": [],
      "source": [
        "#| label: libraries\n",
        "#| include: false\n",
        "import pandas as pd\n",
        "import altair as alt\n",
        "import numpy as np\n",
        "import seaborn as sns\n",
        "import pandas as pd\n",
        "import altair as alt\n",
        "from sklearn.model_selection import train_test_split\n",
        "from sklearn.tree import DecisionTreeClassifier\n",
        "from sklearn.ensemble import RandomForestClassifier\n",
        "from sklearn.metrics import accuracy_score, classification_report\n",
        "from sklearn.preprocessing import LabelEncoder\n",
        "from sklearn.model_selection import train_test_split\n",
        "from sklearn import tree\n",
        "from sklearn.naive_bayes import GaussianNB\n",
        "from sklearn.ensemble import GradientBoostingClassifier\n",
        "from sklearn import metrics"
      ]
    },
    {
      "cell_type": "markdown",
      "id": "12932549",
      "metadata": {},
      "source": [
        "## Elevator pitch\n",
        "\n",
        "_paste your elevator pitch here_\n"
      ]
    },
    {
      "cell_type": "code",
      "execution_count": 2,
      "id": "project-data",
      "metadata": {},
      "outputs": [],
      "source": [
        "#| label: project data\n",
        "#| code-summary: Read and format project data\n",
        "# Include and execute your code here\n",
        "dwellings_ml = pd.read_csv(\n",
        "    \"https://github.com/byuidatascience/data4dwellings/raw/master/data-raw/dwellings_ml/dwellings_ml.csv\"\n",
        ")"
      ]
    },
    {
      "cell_type": "markdown",
      "id": "4cd36009",
      "metadata": {},
      "source": [
        "__Highlight the grand questions__\n",
        "\n",
        "## GRAND QUESTION 1\n",
        "\n",
        "Create 2-3 charts that evaluate potential relationships between the home variables and before1980. Explain what you learn from the charts that could help a machine learning algorithm.\n",
        "\n",
        "I created 5 charts in order to get a rough view on which features would be good to focus on in this project. I was able to find a few, such as living space and stories that I felt would be important, but still took additional steps shown in later questions to narrow down the best features to base my study on. For the sake of this (and the fact that the last two were not super useful) I will just show the first 3 charts."
      ]
    },
    {
      "cell_type": "code",
      "execution_count": 3,
      "id": "GQ1",
      "metadata": {},
      "outputs": [],
      "source": [
        "#| label: GQ1\n",
        "#| code-summary: Read and format data\n",
        "# Include and execute your code here\n",
        "h_subset = dwellings_ml.filter(\n",
        "    [\n",
        "        \"livearea\",\n",
        "        \"finbsmnt\",\n",
        "        \"basement\",\n",
        "        \"yearbuilt\",\n",
        "        \"nocars\",\n",
        "        \"numbdrm\",\n",
        "        \"numbaths\",\n",
        "        \"before1980\",\n",
        "        \"stories\",\n",
        "        \"yrbuilt\",\n",
        "    ]\n",
        ").sample(500)\n",
        "h_subset_2 = dwellings_ml.filter(\n",
        "    [\n",
        "        \"totunits\",\n",
        "        \"sprice\",\n",
        "        \"deduct\",\n",
        "        \"netprice\",\n",
        "        \"tasp\",\n",
        "        \"before1980\",\n",
        "        \"smonth\",\n",
        "        \"yrbuilt\",\n",
        "        \"syear\",\n",
        "    ]\n",
        ").sample(500)\n",
        "h_subset_3 = dwellings_ml.filter(\n",
        "    [\n",
        "        \"condition_AVG\",\n",
        "        \"condition_Excel\",\n",
        "        \"condition_Fair\",\n",
        "        \"condition_Good\",\n",
        "        \"condition_VGood\",\n",
        "        \"before1980\",\n",
        "        \"quality_A\",\n",
        "        \"yrbuilt\",\n",
        "        \"quality_B\",\n",
        "        \"quality_C\",\n",
        "        \"quality_D\",\n",
        "        \"quality_X\",\n",
        "    ]\n",
        ").sample(500)\n",
        "h_subset_4 = dwellings_ml.filter(\n",
        "    [\n",
        "        \"gartype_Att\",\n",
        "        \"gartype_Att/Det\",\n",
        "        \"gartype_CP\",\n",
        "        \"gartype_Det\",\n",
        "        \"gartype_None\",\n",
        "        \"gartype_att/CP\",\n",
        "        \"gartype_det/CP\",\n",
        "        \"arcstyle_BI-LEVEL\",\n",
        "        \"arcstyle_CONVERSIONS\",\n",
        "        \"arcstyle_END UNIT\",\n",
        "        \"arcstyle_MIDDLE UNIT\",\n",
        "        \"yrbuilt\",\n",
        "        \"before1980\",\n",
        "    ]\n",
        ").sample(500)\n",
        "h_subset_5 = dwellings_ml.filter(\n",
        "    [\n",
        "        \"arcstyle_ONE AND HALF-STORY\",\n",
        "        \"arcstyle_ONE-STORY\",\n",
        "        \"arcstyle_SPLIT LEVEL\",\n",
        "        \"arcstyle_THREE-STORY\",\n",
        "        \"arcstyle_TRI-LEVEL\",\n",
        "        \"arcstyle_TRI-LEVEL WITH BASEMENT\",\n",
        "        \"arcstyle_TWO AND HALF-STORY\",\n",
        "        \"arcstyle_TWO-STORY\",\n",
        "        \"qualified_Q\",\n",
        "        \"qualified_U\",\n",
        "        \"status_I\",\n",
        "        \"status_V\",\n",
        "        \"yrbuilt\",\n",
        "        \"before1980\",\n",
        "    ]\n",
        ").sample(500)"
      ]
    },
    {
      "cell_type": "code",
      "execution_count": 4,
      "id": "GQ1-chart",
      "metadata": {},
      "outputs": [
        {
          "data": {
            "text/plain": [
              "<Axes: >"
            ]
          },
          "execution_count": 4,
          "metadata": {},
          "output_type": "execute_result"
        },
        {
          "data": {
            "image/png": "[encoded data removed]",
            "text/plain": [
              "<Figure size 640x480 with 2 Axes>"
            ]
          },
          "metadata": {},
          "output_type": "display_data"
        }
      ],
      "source": [
        "#| label: GQ1 chart\n",
        "#| code-summary: plot example\n",
        "#| fig-cap: Heatmap Charts\n",
        "#| fig-align: center\n",
        "# Include and execute your code here\n",
        "corr1 = h_subset.drop(columns=\"before1980\").corr()\n",
        "sns.heatmap(corr1)"
      ]
    },
    {
      "cell_type": "code",
      "execution_count": 5,
      "id": "GQ1-chart",
      "metadata": {},
      "outputs": [
        {
          "data": {
            "text/plain": [
              "<Axes: >"
            ]
          },
          "execution_count": 5,
          "metadata": {},
          "output_type": "execute_result"
        },
        {
          "data": {
            "image/png": "[encoded data removed]",
            "text/plain": [
              "<Figure size 640x480 with 2 Axes>"
            ]
          },
          "metadata": {},
          "output_type": "display_data"
        }
      ],
      "source": [
        "#| label: GQ1 chart 2\n",
        "#| code-summary: plot example\n",
        "#| fig-cap: Heatmap Charts\n",
        "#| fig-align: center\n",
        "# Include and execute your code here\n",
        "\n",
        "corr2 = h_subset_2.drop(columns=\"before1980\").corr()\n",
        "sns.heatmap(corr2)"
      ]
    },
    {
      "cell_type": "code",
      "execution_count": 6,
      "id": "GQ1-chart",
      "metadata": {},
      "outputs": [
        {
          "data": {
            "text/plain": [
              "<Axes: >"
            ]
          },
          "execution_count": 6,
          "metadata": {},
          "output_type": "execute_result"
        },
        {
          "data": {
            "image/png": "[encoded data removed]",
            "text/plain": [
              "<Figure size 640x480 with 2 Axes>"
            ]
          },
          "metadata": {},
          "output_type": "display_data"
        }
      ],
      "source": [
        "#| label: GQ1 chart 3\n",
        "#| code-summary: plot example\n",
        "#| fig-cap: Heatmap Charts\n",
        "#| fig-align: center\n",
        "# Include and execute your code here\n",
        "\n",
        "corr3 = h_subset_3.drop(columns=\"before1980\").corr()\n",
        "sns.heatmap(corr3)"
      ]
    },
    {
      "cell_type": "markdown",
      "id": "977b7dfd",
      "metadata": {},
      "source": [
        "## GRAND QUESTION 2\n",
        "\n",
        "Build a classification model labeling houses as being built “before 1980” or “during or after 1980”. Your goal is to reach or exceed 90% accuracy. Explain your final model choice (algorithm, tuning parameters, etc) and describe what other models you tried.\n",
        "\n",
        "I originally built a classification model using the decision tree model using all of the features available. This was just under 90% accurate, so I ended up creating a random forest model as well which was a few points over 90%. In question 3 I will show how I was able to get both of those to increase, and the decision tree to reach over 90%.\n"
      ]
    },
    {
      "cell_type": "code",
      "execution_count": 7,
      "id": "GQ2",
      "metadata": {},
      "outputs": [],
      "source": [
        "#| label: GQ2\n",
        "#| code-summary: Read and format data\n",
        "# Include and execute your code here\n",
        "X_pred = dwellings_ml.drop(\n",
        "    dwellings_ml.filter(regex=\"before1980|yrbuilt\").columns, axis=1\n",
        ")\n",
        "y_pred = dwellings_ml.filter(regex=\"before1980\")\n",
        "X_train, X_test, y_train, y_test = train_test_split(\n",
        "    X_pred, y_pred, test_size=0.34, random_state=76\n",
        ")\n",
        "features = [\n",
        "    \"livearea\",\n",
        "    \"finbsmnt\",\n",
        "    \"basement\",\n",
        "    \"nocars\",\n",
        "    \"numbdrm\",\n",
        "    \"numbaths\",\n",
        "    \"before1980\",\n",
        "    \"stories\",\n",
        "    \"yrbuilt\",\n",
        "    \"totunits\",\n",
        "    \"sprice\",\n",
        "    \"deduct\",\n",
        "    \"netprice\",\n",
        "    \"tasp\",\n",
        "    \"smonth\",\n",
        "    \"yrbuilt\",\n",
        "    \"syear\",\n",
        "    \"condition_AVG\",\n",
        "    \"condition_Excel\",\n",
        "    \"condition_Fair\",\n",
        "    \"condition_Good\",\n",
        "    \"condition_VGood\",\n",
        "    \"quality_A\",\n",
        "    \"yrbuilt\",\n",
        "    \"quality_B\",\n",
        "    \"quality_C\",\n",
        "    \"quality_D\",\n",
        "    \"quality_X\",\n",
        "    \"gartype_Att\",\n",
        "    \"gartype_Att/Det\",\n",
        "    \"gartype_CP\",\n",
        "    \"gartype_Det\",\n",
        "    \"gartype_None\",\n",
        "    \"gartype_att/CP\",\n",
        "    \"gartype_det/CP\",\n",
        "    \"arcstyle_BI-LEVEL\",\n",
        "    \"arcstyle_CONVERSIONS\",\n",
        "    \"arcstyle_END UNIT\",\n",
        "    \"arcstyle_MIDDLE UNIT\",\n",
        "    \"yrbuilt\",\n",
        "    \"arcstyle_ONE AND HALF-STORY\",\n",
        "    \"arcstyle_ONE-STORY\",\n",
        "    \"arcstyle_SPLIT LEVEL\",\n",
        "    \"arcstyle_THREE-STORY\",\n",
        "    \"arcstyle_TRI-LEVEL\",\n",
        "    \"arcstyle_TRI-LEVEL WITH BASEMENT\",\n",
        "    \"arcstyle_TWO AND HALF-STORY\",\n",
        "    \"arcstyle_TWO-STORY\",\n",
        "    \"qualified_Q\",\n",
        "    \"qualified_U\",\n",
        "    \"status_I\",\n",
        "    \"status_V\",\n",
        "    \"yrbuilt\",\n",
        "]"
      ]
    },
    {
      "cell_type": "code",
      "execution_count": 8,
      "id": "GQ2-chart",
      "metadata": {},
      "outputs": [
        {
          "name": "stdout",
          "output_type": "stream",
          "text": [
            "Decision Tree Accuracy: 89.70%\n",
            "Decision Tree Classification Report:\n",
            "              precision    recall  f1-score   support\n",
            "\n",
            "           0       0.85      0.88      0.86      1710\n",
            "           1       0.93      0.91      0.92      2873\n",
            "\n",
            "    accuracy                           0.90      4583\n",
            "   macro avg       0.89      0.89      0.89      4583\n",
            "weighted avg       0.90      0.90      0.90      4583\n",
            "\n"
          ]
        }
      ],
      "source": [
        "#| label: GQ2 chart\n",
        "#| code-summary: plot example\n",
        "#| fig-cap: Decision Tree\n",
        "#| fig-align: center\n",
        "# Include and execute your code here\n",
        "subset_dt = dwellings_ml[features]\n",
        "subset_dt = subset_dt.dropna()\n",
        "le_dt = LabelEncoder()\n",
        "subset_dt[\"before1980\"] = le_dt.fit_transform(subset_dt[\"before1980\"])\n",
        "X_dt = subset_dt.drop([\"before1980\", \"yrbuilt\"], axis=1)\n",
        "y_dt = subset_dt[\"before1980\"]\n",
        "X_train_dt, X_test_dt, y_train_dt, y_test_dt = train_test_split(\n",
        "    X_dt, y_dt, test_size=0.2, random_state=42\n",
        ")\n",
        "clf_dt = DecisionTreeClassifier(random_state=42)\n",
        "\n",
        "clf_dt.fit(X_train_dt, y_train_dt)\n",
        "\n",
        "y_pred_dt = clf_dt.predict(X_test_dt)\n",
        "\n",
        "accuracy_dt = accuracy_score(y_test_dt, y_pred_dt)\n",
        "print(f\"Decision Tree Accuracy: {accuracy_dt * 100:.2f}%\")\n",
        "print(\"Decision Tree Classification Report:\")\n",
        "print(classification_report(y_test_dt, y_pred_dt))"
      ]
    },
    {
      "cell_type": "code",
      "execution_count": 9,
      "id": "GQ2-chart",
      "metadata": {},
      "outputs": [
        {
          "name": "stdout",
          "output_type": "stream",
          "text": [
            "Random Forest Accuracy: 92.76%\n",
            "Random Forest Classification Report:\n",
            "              precision    recall  f1-score   support\n",
            "\n",
            "           0       0.91      0.90      0.90      1710\n",
            "           1       0.94      0.95      0.94      2873\n",
            "\n",
            "    accuracy                           0.93      4583\n",
            "   macro avg       0.92      0.92      0.92      4583\n",
            "weighted avg       0.93      0.93      0.93      4583\n",
            "\n"
          ]
        }
      ],
      "source": [
        "#| label: GQ2 chart 2\n",
        "#| code-summary: plot example\n",
        "#| fig-cap: Random Forest\n",
        "#| fig-align: center\n",
        "# Include and execute your code here\n",
        "subset_rf = dwellings_ml[features]\n",
        "subset_rf = subset_rf.dropna()\n",
        "\n",
        "le_rf = LabelEncoder()\n",
        "subset_rf[\"before1980\"] = le_rf.fit_transform(subset_rf[\"before1980\"])\n",
        "\n",
        "X_rf = subset_rf.drop([\"before1980\", \"yrbuilt\"], axis=1)\n",
        "y_rf = subset_rf[\"before1980\"]\n",
        "\n",
        "X_train_rf, X_test_rf, y_train_rf, y_test_rf = train_test_split(\n",
        "    X_rf, y_rf, test_size=0.2, random_state=42\n",
        ")\n",
        "\n",
        "clf_rf = RandomForestClassifier(n_estimators=100, random_state=42)\n",
        "\n",
        "clf_rf.fit(X_train_rf, y_train_rf)\n",
        "\n",
        "y_pred_rf = clf_rf.predict(X_test_rf)\n",
        "\n",
        "accuracy_rf = accuracy_score(y_test_rf, y_pred_rf)\n",
        "print(f\"Random Forest Accuracy: {accuracy_rf * 100:.2f}%\")\n",
        "\n",
        "print(\"Random Forest Classification Report:\")\n",
        "print(classification_report(y_test_rf, y_pred_rf))"
      ]
    },
    {
      "cell_type": "markdown",
      "id": "4b23989a",
      "metadata": {},
      "source": [
        "## GRAND QUESTION 3\n",
        "\n",
        "Justify your classification model by discussing the most important features selected by your model. This discussion should include a chart and a description of the features.\n",
        "\n",
        "I started this project looking at the charts in order to determine the best possible criteria for creating my classification model, but even still, I wanted to test all of them. In order to do this, I used all of the criteria in\n",
        "my first model (besides \"before1980\" and \"yrbuilt\") and then I played around with the importance for both my decision tree and my random forest. For decision tree, I was able to get over 90% with all features over .015 importance,\n",
        "and with my random forest I was able to get over 90% with all of the features, but still filtered it just to ones over .012 importance. The most important features for both classification models were \"arcstyle_one-story\" (whether the house is just one story or not) and \"livearea\" (Total living area of the house).\n"
      ]
    },
    {
      "cell_type": "code",
      "execution_count": 10,
      "id": "GQ3-chart-1",
      "metadata": {},
      "outputs": [
        {
          "name": "stderr",
          "output_type": "stream",
          "text": [
            "C:\\Users\\joshu\\AppData\\Local\\Packages\\PythonSoftwareFoundation.Python.3.9_qbz5n2kfra8p0\\LocalCache\\local-packages\\Python39\\site-packages\\altair\\utils\\core.py:410: FutureWarning: the convert_dtype parameter is deprecated and will be removed in a future version.  Do ``ser.astype(object).apply()`` instead if you want ``convert_dtype=False``.\n",
            "  col = df[col_name].apply(to_list_if_array, convert_dtype=False)\n"
          ]
        },
        {
          "data": {
            "text/html": [
              "\n",
              "<style>\n",
              "  #altair-viz-3005800a7eb84c06bfb265092a3480c1.vega-embed {\n",
              "    width: 100%;\n",
              "    display: flex;\n",
              "  }\n",
              "\n",
              "  #altair-viz-3005800a7eb84c06bfb265092a3480c1.vega-embed details,\n",
              "  #altair-viz-3005800a7eb84c06bfb265092a3480c1.vega-embed details summary {\n",
              "    position: relative;\n",
              "  }\n",
              "</style>\n",
              "<div id=\"altair-viz-3005800a7eb84c06bfb265092a3480c1\"></div>\n",
              "<script type=\"text/javascript\">\n",
              "  var VEGA_DEBUG = (typeof VEGA_DEBUG == \"undefined\") ? {} : VEGA_DEBUG;\n",
              "  (function(spec, embedOpt){\n",
              "    let outputDiv = document.currentScript.previousElementSibling;\n",
              "    if (outputDiv.id !== \"altair-viz-3005800a7eb84c06bfb265092a3480c1\") {\n",
              "      outputDiv = document.getElementById(\"altair-viz-3005800a7eb84c06bfb265092a3480c1\");\n",
              "    }\n",
              "    const paths = {\n",
              "      \"vega\": \"https://cdn.jsdelivr.net/npm/vega@5?noext\",\n",
              "      \"vega-lib\": \"https://cdn.jsdelivr.net/npm/vega-lib?noext\",\n",
              "      \"vega-lite\": \"https://cdn.jsdelivr.net/npm/vega-lite@5.14.1?noext\",\n",
              "      \"vega-embed\": \"https://cdn.jsdelivr.net/npm/vega-embed@6?noext\",\n",
              "    };\n",
              "\n",
              "    function maybeLoadScript(lib, version) {\n",
              "      var key = `${lib.replace(\"-\", \"\")}_version`;\n",
              "      return (VEGA_DEBUG[key] == version) ?\n",
              "        Promise.resolve(paths[lib]) :\n",
              "        new Promise(function(resolve, reject) {\n",
              "          var s = document.createElement('script');\n",
              "          document.getElementsByTagName(\"head\")[0].appendChild(s);\n",
              "          s.async = true;\n",
              "          s.onload = () => {\n",
              "            VEGA_DEBUG[key] = version;\n",
              "            return resolve(paths[lib]);\n",
              "          };\n",
              "          s.onerror = () => reject(`Error loading script: ${paths[lib]}`);\n",
              "          s.src = paths[lib];\n",
              "        });\n",
              "    }\n",
              "\n",
              "    function showError(err) {\n",
              "      outputDiv.innerHTML = `<div class=\"error\" style=\"color:red;\">${err}</div>`;\n",
              "      throw err;\n",
              "    }\n",
              "\n",
              "    function displayChart(vegaEmbed) {\n",
              "      vegaEmbed(outputDiv, spec, embedOpt)\n",
              "        .catch(err => showError(`Javascript Error: ${err.message}<br>This usually means there's a typo in your chart specification. See the javascript console for the full traceback.`));\n",
              "    }\n",
              "\n",
              "    if(typeof define === \"function\" && define.amd) {\n",
              "      requirejs.config({paths});\n",
              "      require([\"vega-embed\"], displayChart, err => showError(`Error loading script: ${err.message}`));\n",
              "    } else {\n",
              "      maybeLoadScript(\"vega\", \"5\")\n",
              "        .then(() => maybeLoadScript(\"vega-lite\", \"5.14.1\"))\n",
              "        .then(() => maybeLoadScript(\"vega-embed\", \"6\"))\n",
              "        .catch(showError)\n",
              "        .then(() => displayChart(vegaEmbed));\n",
              "    }\n",
              "  })({\"config\": {\"view\": {\"continuousWidth\": 300, \"continuousHeight\": 300}}, \"data\": {\"name\": \"data-b333d63db5906706c215c85319d81451\"}, \"mark\": {\"type\": \"bar\"}, \"encoding\": {\"color\": {\"field\": \"Importance\", \"scale\": {\"scheme\": \"viridis\"}, \"type\": \"quantitative\"}, \"tooltip\": [{\"field\": \"Feature\", \"type\": \"nominal\"}, {\"field\": \"Importance\", \"type\": \"quantitative\"}], \"x\": {\"field\": \"Importance\", \"title\": \"Importance\", \"type\": \"quantitative\"}, \"y\": {\"field\": \"Feature\", \"title\": \"Feature\", \"type\": \"nominal\"}}, \"title\": \"Feature Importance in Decision Tree Classifier\", \"$schema\": \"https://vega.github.io/schema/vega-lite/v5.14.1.json\", \"datasets\": {\"data-b333d63db5906706c215c85319d81451\": [{\"Feature\": \"arcstyle_ONE-STORY\", \"Importance\": 0.24313597390739253}, {\"Feature\": \"gartype_Att\", \"Importance\": 0.12510081018065164}, {\"Feature\": \"quality_C\", \"Importance\": 0.11378467598592115}, {\"Feature\": \"livearea\", \"Importance\": 0.11020057266782345}, {\"Feature\": \"tasp\", \"Importance\": 0.04498241429411764}, {\"Feature\": \"stories\", \"Importance\": 0.04118384495443311}, {\"Feature\": \"basement\", \"Importance\": 0.040891554696148885}, {\"Feature\": \"netprice\", \"Importance\": 0.028291765998327466}, {\"Feature\": \"sprice\", \"Importance\": 0.0259362154662083}, {\"Feature\": \"numbdrm\", \"Importance\": 0.02456624161430414}, {\"Feature\": \"numbaths\", \"Importance\": 0.022979923846360602}, {\"Feature\": \"smonth\", \"Importance\": 0.02237536152392642}, {\"Feature\": \"condition_AVG\", \"Importance\": 0.020395530137505037}, {\"Feature\": \"finbsmnt\", \"Importance\": 0.019585293282631613}, {\"Feature\": \"nocars\", \"Importance\": 0.018432125731368196}, {\"Feature\": \"status_I\", \"Importance\": 0.015478778873393474}, {\"Feature\": \"deduct\", \"Importance\": 0.013574588029572987}, {\"Feature\": \"arcstyle_ONE AND HALF-STORY\", \"Importance\": 0.01330915980464748}, {\"Feature\": \"arcstyle_END UNIT\", \"Importance\": 0.009253995834857583}, {\"Feature\": \"syear\", \"Importance\": 0.00689350227695184}, {\"Feature\": \"arcstyle_MIDDLE UNIT\", \"Importance\": 0.0062649188479657735}, {\"Feature\": \"qualified_U\", \"Importance\": 0.0051082229374203635}, {\"Feature\": \"qualified_Q\", \"Importance\": 0.004513735331325205}, {\"Feature\": \"status_V\", \"Importance\": 0.0044088621405025015}, {\"Feature\": \"gartype_Det\", \"Importance\": 0.0037235737534746845}, {\"Feature\": \"arcstyle_TWO-STORY\", \"Importance\": 0.003618195928515024}, {\"Feature\": \"totunits\", \"Importance\": 0.0033493210255905203}, {\"Feature\": \"quality_B\", \"Importance\": 0.002221279013471278}, {\"Feature\": \"condition_Good\", \"Importance\": 0.001737229663046098}, {\"Feature\": \"arcstyle_TRI-LEVEL\", \"Importance\": 0.0011142951767249}, {\"Feature\": \"gartype_det/CP\", \"Importance\": 0.0008958023910484848}, {\"Feature\": \"quality_A\", \"Importance\": 0.0005292492165735447}, {\"Feature\": \"arcstyle_BI-LEVEL\", \"Importance\": 0.00044089419147721814}, {\"Feature\": \"condition_VGood\", \"Importance\": 0.0004019721401354958}, {\"Feature\": \"gartype_Att/Det\", \"Importance\": 0.00036172097459452113}, {\"Feature\": \"arcstyle_TRI-LEVEL WITH BASEMENT\", \"Importance\": 0.00030020699720785917}, {\"Feature\": \"arcstyle_THREE-STORY\", \"Importance\": 0.00028949400002022417}, {\"Feature\": \"arcstyle_TWO AND HALF-STORY\", \"Importance\": 0.0001924338530978525}, {\"Feature\": \"gartype_None\", \"Importance\": 0.0001550874312373804}, {\"Feature\": \"quality_D\", \"Importance\": 2.1175880027541988e-05}, {\"Feature\": \"arcstyle_SPLIT LEVEL\", \"Importance\": 0.0}, {\"Feature\": \"arcstyle_CONVERSIONS\", \"Importance\": 0.0}, {\"Feature\": \"gartype_att/CP\", \"Importance\": 0.0}, {\"Feature\": \"condition_Fair\", \"Importance\": 0.0}, {\"Feature\": \"condition_Excel\", \"Importance\": 0.0}, {\"Feature\": \"gartype_CP\", \"Importance\": 0.0}, {\"Feature\": \"quality_X\", \"Importance\": 0.0}]}}, {\"mode\": \"vega-lite\"});\n",
              "</script>"
            ],
            "text/plain": [
              "alt.Chart(...)"
            ]
          },
          "execution_count": 10,
          "metadata": {},
          "output_type": "execute_result"
        }
      ],
      "source": [
        "#| label: GQ3 chart 1\n",
        "#| code-summary: table example\n",
        "#| tbl-cap: Decision Tree Chart\n",
        "#| tbl-cap-location: top\n",
        "# Include and execute your code here\n",
        "feature_importances_dt = clf_dt.feature_importances_\n",
        "\n",
        "feature_importance_df_dt = pd.DataFrame(\n",
        "    {\"Feature\": X_dt.columns, \"Importance\": feature_importances_dt}\n",
        ")\n",
        "\n",
        "feature_importance_df_dt = feature_importance_df_dt.sort_values(\n",
        "    by=\"Importance\", ascending=False\n",
        ")\n",
        "\n",
        "chart_dt = (\n",
        "    alt.Chart(feature_importance_df_dt)\n",
        "    .mark_bar()\n",
        "    .encode(\n",
        "        y=alt.Y(\"Feature:N\", title=\"Feature\"),\n",
        "        x=alt.X(\"Importance:Q\", title=\"Importance\"),\n",
        "        color=alt.Color(\"Importance:Q\", scale=alt.Scale(scheme=\"viridis\")),\n",
        "        tooltip=[\"Feature\", \"Importance\"],\n",
        "    )\n",
        "    .properties(title=\"Feature Importance in Decision Tree Classifier\")\n",
        ")\n",
        "\n",
        "chart_dt"
      ]
    },
    {
      "cell_type": "code",
      "execution_count": 11,
      "id": "GQ3-chart-2",
      "metadata": {},
      "outputs": [
        {
          "name": "stderr",
          "output_type": "stream",
          "text": [
            "C:\\Users\\joshu\\AppData\\Local\\Packages\\PythonSoftwareFoundation.Python.3.9_qbz5n2kfra8p0\\LocalCache\\local-packages\\Python39\\site-packages\\altair\\utils\\core.py:410: FutureWarning: the convert_dtype parameter is deprecated and will be removed in a future version.  Do ``ser.astype(object).apply()`` instead if you want ``convert_dtype=False``.\n",
            "  col = df[col_name].apply(to_list_if_array, convert_dtype=False)\n"
          ]
        },
        {
          "data": {
            "text/html": [
              "\n",
              "<style>\n",
              "  #altair-viz-c8e6b5ac8d3a469d8123ee7f2175f833.vega-embed {\n",
              "    width: 100%;\n",
              "    display: flex;\n",
              "  }\n",
              "\n",
              "  #altair-viz-c8e6b5ac8d3a469d8123ee7f2175f833.vega-embed details,\n",
              "  #altair-viz-c8e6b5ac8d3a469d8123ee7f2175f833.vega-embed details summary {\n",
              "    position: relative;\n",
              "  }\n",
              "</style>\n",
              "<div id=\"altair-viz-c8e6b5ac8d3a469d8123ee7f2175f833\"></div>\n",
              "<script type=\"text/javascript\">\n",
              "  var VEGA_DEBUG = (typeof VEGA_DEBUG == \"undefined\") ? {} : VEGA_DEBUG;\n",
              "  (function(spec, embedOpt){\n",
              "    let outputDiv = document.currentScript.previousElementSibling;\n",
              "    if (outputDiv.id !== \"altair-viz-c8e6b5ac8d3a469d8123ee7f2175f833\") {\n",
              "      outputDiv = document.getElementById(\"altair-viz-c8e6b5ac8d3a469d8123ee7f2175f833\");\n",
              "    }\n",
              "    const paths = {\n",
              "      \"vega\": \"https://cdn.jsdelivr.net/npm/vega@5?noext\",\n",
              "      \"vega-lib\": \"https://cdn.jsdelivr.net/npm/vega-lib?noext\",\n",
              "      \"vega-lite\": \"https://cdn.jsdelivr.net/npm/vega-lite@5.14.1?noext\",\n",
              "      \"vega-embed\": \"https://cdn.jsdelivr.net/npm/vega-embed@6?noext\",\n",
              "    };\n",
              "\n",
              "    function maybeLoadScript(lib, version) {\n",
              "      var key = `${lib.replace(\"-\", \"\")}_version`;\n",
              "      return (VEGA_DEBUG[key] == version) ?\n",
              "        Promise.resolve(paths[lib]) :\n",
              "        new Promise(function(resolve, reject) {\n",
              "          var s = document.createElement('script');\n",
              "          document.getElementsByTagName(\"head\")[0].appendChild(s);\n",
              "          s.async = true;\n",
              "          s.onload = () => {\n",
              "            VEGA_DEBUG[key] = version;\n",
              "            return resolve(paths[lib]);\n",
              "          };\n",
              "          s.onerror = () => reject(`Error loading script: ${paths[lib]}`);\n",
              "          s.src = paths[lib];\n",
              "        });\n",
              "    }\n",
              "\n",
              "    function showError(err) {\n",
              "      outputDiv.innerHTML = `<div class=\"error\" style=\"color:red;\">${err}</div>`;\n",
              "      throw err;\n",
              "    }\n",
              "\n",
              "    function displayChart(vegaEmbed) {\n",
              "      vegaEmbed(outputDiv, spec, embedOpt)\n",
              "        .catch(err => showError(`Javascript Error: ${err.message}<br>This usually means there's a typo in your chart specification. See the javascript console for the full traceback.`));\n",
              "    }\n",
              "\n",
              "    if(typeof define === \"function\" && define.amd) {\n",
              "      requirejs.config({paths});\n",
              "      require([\"vega-embed\"], displayChart, err => showError(`Error loading script: ${err.message}`));\n",
              "    } else {\n",
              "      maybeLoadScript(\"vega\", \"5\")\n",
              "        .then(() => maybeLoadScript(\"vega-lite\", \"5.14.1\"))\n",
              "        .then(() => maybeLoadScript(\"vega-embed\", \"6\"))\n",
              "        .catch(showError)\n",
              "        .then(() => displayChart(vegaEmbed));\n",
              "    }\n",
              "  })({\"config\": {\"view\": {\"continuousWidth\": 300, \"continuousHeight\": 300}}, \"data\": {\"name\": \"data-b53095a1923f854c44bd1a46129d682d\"}, \"mark\": {\"type\": \"bar\"}, \"encoding\": {\"color\": {\"field\": \"Importance\", \"scale\": {\"scheme\": \"viridis\"}, \"type\": \"quantitative\"}, \"tooltip\": [{\"field\": \"Feature\", \"type\": \"nominal\"}, {\"field\": \"Importance\", \"type\": \"quantitative\"}], \"x\": {\"field\": \"Importance\", \"title\": \"Importance\", \"type\": \"quantitative\"}, \"y\": {\"field\": \"Feature\", \"title\": \"Feature\", \"type\": \"nominal\"}}, \"title\": \"Feature Importance in Random Forest Classifier\", \"$schema\": \"https://vega.github.io/schema/vega-lite/v5.14.1.json\", \"datasets\": {\"data-b53095a1923f854c44bd1a46129d682d\": [{\"Feature\": \"livearea\", \"Importance\": 0.0916812280557334}, {\"Feature\": \"arcstyle_ONE-STORY\", \"Importance\": 0.08686773960085027}, {\"Feature\": \"stories\", \"Importance\": 0.06219630537602988}, {\"Feature\": \"sprice\", \"Importance\": 0.058916363568297096}, {\"Feature\": \"tasp\", \"Importance\": 0.05882370870356229}, {\"Feature\": \"netprice\", \"Importance\": 0.05846771420047233}, {\"Feature\": \"numbaths\", \"Importance\": 0.056650280801049446}, {\"Feature\": \"gartype_Att\", \"Importance\": 0.05111090105714218}, {\"Feature\": \"basement\", \"Importance\": 0.04382349050929846}, {\"Feature\": \"quality_C\", \"Importance\": 0.042575602593916094}, {\"Feature\": \"arcstyle_TWO-STORY\", \"Importance\": 0.04256062463190793}, {\"Feature\": \"condition_AVG\", \"Importance\": 0.028653868640725024}, {\"Feature\": \"quality_B\", \"Importance\": 0.028253774208703498}, {\"Feature\": \"nocars\", \"Importance\": 0.027370444789534903}, {\"Feature\": \"finbsmnt\", \"Importance\": 0.02618902037939354}, {\"Feature\": \"smonth\", \"Importance\": 0.025936409757582827}, {\"Feature\": \"numbdrm\", \"Importance\": 0.025671140060277157}, {\"Feature\": \"gartype_Det\", \"Importance\": 0.025250921740436142}, {\"Feature\": \"arcstyle_END UNIT\", \"Importance\": 0.01764951052407993}, {\"Feature\": \"deduct\", \"Importance\": 0.01733954432347298}, {\"Feature\": \"status_I\", \"Importance\": 0.01682272241688464}, {\"Feature\": \"condition_Good\", \"Importance\": 0.014876449293955136}, {\"Feature\": \"arcstyle_MIDDLE UNIT\", \"Importance\": 0.013489367732981618}, {\"Feature\": \"status_V\", \"Importance\": 0.012564302516736322}, {\"Feature\": \"syear\", \"Importance\": 0.011972169120859804}, {\"Feature\": \"gartype_None\", \"Importance\": 0.010353446510697074}, {\"Feature\": \"arcstyle_ONE AND HALF-STORY\", \"Importance\": 0.009804338432847845}, {\"Feature\": \"qualified_U\", \"Importance\": 0.006542402970896849}, {\"Feature\": \"qualified_Q\", \"Importance\": 0.006118082245720274}, {\"Feature\": \"quality_A\", \"Importance\": 0.004744423029728387}, {\"Feature\": \"arcstyle_TRI-LEVEL WITH BASEMENT\", \"Importance\": 0.003190625968952419}, {\"Feature\": \"totunits\", \"Importance\": 0.0027839984052105827}, {\"Feature\": \"arcstyle_TRI-LEVEL\", \"Importance\": 0.0025053173474877096}, {\"Feature\": \"quality_D\", \"Importance\": 0.0019269927369691192}, {\"Feature\": \"arcstyle_CONVERSIONS\", \"Importance\": 0.0012765926018994988}, {\"Feature\": \"arcstyle_BI-LEVEL\", \"Importance\": 0.0011178752040331332}, {\"Feature\": \"condition_VGood\", \"Importance\": 0.0008562077794820873}, {\"Feature\": \"quality_X\", \"Importance\": 0.0007368886598019811}, {\"Feature\": \"arcstyle_TWO AND HALF-STORY\", \"Importance\": 0.0005670278655964523}, {\"Feature\": \"gartype_Att/Det\", \"Importance\": 0.0005655072825495729}, {\"Feature\": \"gartype_det/CP\", \"Importance\": 0.00045868986649556955}, {\"Feature\": \"arcstyle_SPLIT LEVEL\", \"Importance\": 0.0002755484381312194}, {\"Feature\": \"arcstyle_THREE-STORY\", \"Importance\": 0.00019704953106901266}, {\"Feature\": \"gartype_CP\", \"Importance\": 0.00013748558547123862}, {\"Feature\": \"condition_Excel\", \"Importance\": 0.00010743497330288771}, {\"Feature\": \"gartype_att/CP\", \"Importance\": 2.0459959774202817e-05}, {\"Feature\": \"condition_Fair\", \"Importance\": 0.0}]}}, {\"mode\": \"vega-lite\"});\n",
              "</script>"
            ],
            "text/plain": [
              "alt.Chart(...)"
            ]
          },
          "execution_count": 11,
          "metadata": {},
          "output_type": "execute_result"
        }
      ],
      "source": [
        "#| label: GQ3 chart 2\n",
        "#| code-summary: table example\n",
        "#| tbl-cap: Random Forest Chart\n",
        "#| tbl-cap-location: top\n",
        "# Include and execute your code here\n",
        "feature_importances_rf = clf_rf.feature_importances_\n",
        "\n",
        "feature_importance_df_rf = pd.DataFrame(\n",
        "    {\"Feature\": X_rf.columns, \"Importance\": feature_importances_rf}\n",
        ")\n",
        "\n",
        "feature_importance_df_rf = feature_importance_df_rf.sort_values(\n",
        "    by=\"Importance\", ascending=False\n",
        ")\n",
        "\n",
        "chart_rf = (\n",
        "    alt.Chart(feature_importance_df_rf)\n",
        "    .mark_bar()\n",
        "    .encode(\n",
        "        y=alt.Y(\"Feature:N\", title=\"Feature\"),\n",
        "        x=alt.X(\"Importance:Q\", title=\"Importance\"),\n",
        "        color=alt.Color(\"Importance:Q\", scale=alt.Scale(scheme=\"viridis\")),\n",
        "        tooltip=[\"Feature\", \"Importance\"],\n",
        "    )\n",
        "    .properties(title=\"Feature Importance in Random Forest Classifier\")\n",
        ")\n",
        "\n",
        "chart_rf"
      ]
    },
    {
      "cell_type": "code",
      "execution_count": 12,
      "id": "GQ3-list",
      "metadata": {},
      "outputs": [
        {
          "name": "stdout",
          "output_type": "stream",
          "text": [
            "Important Features for Decision Tree:\n",
            "['livearea' 'finbsmnt' 'basement' 'nocars' 'numbdrm' 'numbaths' 'stories'\n",
            " 'sprice' 'netprice' 'tasp' 'smonth' 'condition_AVG' 'quality_C'\n",
            " 'gartype_Att' 'arcstyle_ONE-STORY' 'status_I' 'before1980' 'yrbuilt']\n",
            "Important Features for Random Forest:\n",
            "['livearea' 'finbsmnt' 'basement' 'nocars' 'numbdrm' 'numbaths' 'stories'\n",
            " 'sprice' 'deduct' 'netprice' 'tasp' 'smonth' 'condition_AVG'\n",
            " 'condition_Good' 'quality_B' 'quality_C' 'gartype_Att' 'gartype_Det'\n",
            " 'arcstyle_END UNIT' 'arcstyle_MIDDLE UNIT' 'arcstyle_ONE-STORY'\n",
            " 'arcstyle_TWO-STORY' 'status_I' 'status_V' 'before1980' 'yrbuilt']\n"
          ]
        }
      ],
      "source": [
        "#| label: GQ3 list\n",
        "#| code-summary: table example\n",
        "#| tbl-cap: List of Important Features\n",
        "#| tbl-cap-location: top\n",
        "# Include and execute your code here\n",
        "important_features_dt = X_dt.columns[feature_importances_dt >= 0.015]\n",
        "if \"before1980\" not in important_features_dt:\n",
        "    important_features_dt = np.append(important_features_dt, \"before1980\")\n",
        "if \"yrbuilt\" not in important_features_dt:\n",
        "    important_features_dt = np.append(important_features_dt, \"yrbuilt\")\n",
        "important_features_rf = X_rf.columns[feature_importances_rf >= 0.012]\n",
        "if \"before1980\" not in important_features_rf:\n",
        "    important_features_rf = np.append(important_features_rf, \"before1980\")\n",
        "if \"yrbuilt\" not in important_features_rf:\n",
        "    important_features_rf = np.append(important_features_rf, \"yrbuilt\")\n",
        "\n",
        "print(\"Important Features for Decision Tree:\")\n",
        "print(important_features_dt)\n",
        "\n",
        "print(\"Important Features for Random Forest:\")\n",
        "print(important_features_rf)"
      ]
    },
    {
      "cell_type": "code",
      "execution_count": 13,
      "id": "GQ3-report-1",
      "metadata": {},
      "outputs": [
        {
          "name": "stdout",
          "output_type": "stream",
          "text": [
            "Improved Decision Tree Accuracy: 90.18%\n",
            "Decision Tree Classification Report:\n",
            "              precision    recall  f1-score   support\n",
            "\n",
            "           0       0.86      0.88      0.87      1710\n",
            "           1       0.93      0.91      0.92      2873\n",
            "\n",
            "    accuracy                           0.90      4583\n",
            "   macro avg       0.89      0.90      0.90      4583\n",
            "weighted avg       0.90      0.90      0.90      4583\n",
            "\n"
          ]
        }
      ],
      "source": [
        "#| label: GQ3 report 1\n",
        "#| code-summary: table example\n",
        "#| tbl-cap: Improved Decision Tree\n",
        "#| tbl-cap-location: top\n",
        "# Include and execute your code here\n",
        "improved_dt = dwellings_ml[important_features_dt]\n",
        "improved_dt = improved_dt.dropna()\n",
        "le_dt = LabelEncoder()\n",
        "improved_dt[\"before1980\"] = le_dt.fit_transform(improved_dt[\"before1980\"])\n",
        "X_dt = improved_dt.drop([\"before1980\", \"yrbuilt\"], axis=1)\n",
        "y_dt = improved_dt[\"before1980\"]\n",
        "X_train_dt, X_test_dt, y_train_dt, y_test_dt = train_test_split(\n",
        "    X_dt, y_dt, test_size=0.2, random_state=42\n",
        ")\n",
        "\n",
        "clf_dt = DecisionTreeClassifier(random_state=42)\n",
        "\n",
        "clf_dt.fit(X_train_dt, y_train_dt)\n",
        "\n",
        "y_pred_dt = clf_dt.predict(X_test_dt)\n",
        "\n",
        "accuracy_dt = accuracy_score(y_test_dt, y_pred_dt)\n",
        "print(f\"Improved Decision Tree Accuracy: {accuracy_dt * 100:.2f}%\")\n",
        "print(\"Decision Tree Classification Report:\")\n",
        "print(classification_report(y_test_dt, y_pred_dt))"
      ]
    },
    {
      "cell_type": "code",
      "execution_count": 14,
      "id": "GQ3-report-1",
      "metadata": {},
      "outputs": [
        {
          "name": "stdout",
          "output_type": "stream",
          "text": [
            "Improved Random Forest Accuracy: 93.02%\n",
            "Random Forest Classification Report:\n",
            "              precision    recall  f1-score   support\n",
            "\n",
            "           0       0.91      0.90      0.91      1710\n",
            "           1       0.94      0.95      0.94      2873\n",
            "\n",
            "    accuracy                           0.93      4583\n",
            "   macro avg       0.93      0.92      0.93      4583\n",
            "weighted avg       0.93      0.93      0.93      4583\n",
            "\n"
          ]
        }
      ],
      "source": [
        "#| label: GQ3 report 2\n",
        "#| code-summary: table example\n",
        "#| tbl-cap: Improved Random Forest\n",
        "#| tbl-cap-location: top\n",
        "# Include and execute your code here\n",
        "improved_rf = dwellings_ml[important_features_rf]\n",
        "improved_rf = improved_rf.dropna()\n",
        "\n",
        "le_rf = LabelEncoder()\n",
        "improved_rf[\"before1980\"] = le_rf.fit_transform(improved_rf[\"before1980\"])\n",
        "\n",
        "X_rf = improved_rf.drop([\"before1980\", \"yrbuilt\"], axis=1)\n",
        "y_rf = improved_rf[\"before1980\"]\n",
        "\n",
        "X_train_rf, X_test_rf, y_train_rf, y_test_rf = train_test_split(\n",
        "    X_rf, y_rf, test_size=0.2, random_state=42\n",
        ")\n",
        "clf_rf = RandomForestClassifier(n_estimators=100, random_state=42)\n",
        "\n",
        "clf_rf.fit(X_train_rf, y_train_rf)\n",
        "\n",
        "y_pred_rf = clf_rf.predict(X_test_rf)\n",
        "\n",
        "accuracy_rf = accuracy_score(y_test_rf, y_pred_rf)\n",
        "print(f\"Improved Random Forest Accuracy: {accuracy_rf * 100:.2f}%\")\n",
        "\n",
        "print(\"Random Forest Classification Report:\")\n",
        "print(classification_report(y_test_rf, y_pred_rf))"
      ]
    },
    {
      "cell_type": "markdown",
      "id": "f0b1161c",
      "metadata": {},
      "source": [
        "## GRAND QUESTION 4\n",
        "\n",
        "Describe the quality of your classification model using 2-3 different evaluation metrics. You also need to explain how to interpret each of the evaluation metrics you use.\n",
        "\n",
        "The metrics that I used to determine the quality of my classification models were: Accuracy, Precision, Recall, and F1-Score. \n",
        "Accuracy is the most straightforward metric, representing the ratio of correctly predicted instances to the total instances. It provides an overall measure of how often the model makes correct predictions. High accuracy is desirable, but it might not be sufficient if the classes are imbalanced.\n",
        "Precision is the ratio of correctly predicted positive observations to the total predicted positives (true positives / (true positives + false positives)). It represents the ability of the model not to label negative instances as positive. A high precision indicates a low false positive rate.\n",
        "Recall is the ratio of correctly predicted positive observations to all actual positives (true positives / (true positives + false negatives)). It represents the ability of the model to capture all the relevant instances. A high recall indicates a low false negative rate.\n",
        "F1-Score is the harmonic mean of precision and recall, providing a balance between the two metrics (2 * (precision * recall) / (precision + recall)). It is particularly useful when there is an uneven class distribution or when both false positives and false negatives are critical.\n",
        "\n",
        "\n",
        "## APPENDIX A (Additional Python Code)\n",
        "\n",
        "```python\n",
        "#paste other your code from your python file (.py) here\n",
        "```"
      ]
    }
  ],
  "metadata": {
    "kernelspec": {
      "display_name": "Python 3",
      "language": "python",
      "name": "python3"
    },
    "language_info": {
      "codemirror_mode": {
        "name": "ipython",
        "version": 3
      },
      "file_extension": ".py",
      "mimetype": "text/x-python",
      "name": "python",
      "nbconvert_exporter": "python",
      "pygments_lexer": "ipython3",
      "version": "3.9.13"
    }
  },
  "nbformat": 4,
  "nbformat_minor": 5
}
